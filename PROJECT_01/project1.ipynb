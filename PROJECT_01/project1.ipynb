{
 "cells": [
  {
   "cell_type": "markdown",
   "metadata": {},
   "source": [
    "# ML@UVA Code.a.thon: Boston Housing Prices\n",
    "\n",
    "Authors: Rohit Musti (rm3qg), Andrew Walsh (abw9yd)\n",
    "Goal: create a model to predict prices of Boston Homes"
   ]
  },
  {
   "cell_type": "markdown",
   "metadata": {},
   "source": [
    "#### Load Libraries and Set Constants"
   ]
  },
  {
   "cell_type": "code",
   "execution_count": 3,
   "metadata": {},
   "outputs": [],
   "source": [
    "# To support both python 2 and python 3\n",
    "from __future__ import division, print_function, unicode_literals\n",
    "\n",
    "# Common imports\n",
    "import numpy as np\n",
    "import pandas as pd\n",
    "from pandas.plotting import scatter_matrix\n",
    "\n",
    "import os as os\n",
    "\n",
    "import matplotlib.image as mpimg\n",
    "import matplotlib.pyplot as plt\n",
    "import matplotlib as mpl\n",
    "\n",
    "from sklearn.model_selection import train_test_split\n",
    "from sklearn.model_selection import GridSearchCV\n",
    "from sklearn.ensemble import RandomForestRegressor\n",
    "from sklearn.model_selection import cross_val_score\n",
    "from sklearn.ensemble import RandomForestRegressor\n",
    "from sklearn.model_selection import cross_val_score\n",
    "from sklearn.metrics import mean_squared_error\n",
    "from sklearn.linear_model import LinearRegression\n",
    "from sklearn import linear_model\n",
    "from sklearn import linear_model\n",
    "from sklearn.tree import DecisionTreeRegressor\n",
    "from sklearn.pipeline import FeatureUnion\n",
    "from sklearn.base import BaseEstimator, TransformerMixin\n",
    "try:\n",
    "    from sklearn.compose import ColumnTransformer\n",
    "except ImportError:\n",
    "    from future_encoders import ColumnTransformer # Scikit-Learn < 0.20\n",
    "from sklearn.pipeline import Pipeline\n",
    "from sklearn.preprocessing import StandardScaler\n",
    "from sklearn.base import BaseEstimator, TransformerMixin\n",
    "try:\n",
    "    from sklearn.preprocessing import OrdinalEncoder # just to raise an ImportError if Scikit-Learn < 0.20\n",
    "    from sklearn.preprocessing import OneHotEncoder\n",
    "except ImportError:\n",
    "    from future_encoders import OneHotEncoder # Scikit-Learn < 0.20\n",
    "\n",
    "try:\n",
    "    from sklearn.preprocessing import OrdinalEncoder\n",
    "except ImportError:\n",
    "    from future_encoders import OrdinalEncoder # Scikit-Learn < 0.20\n",
    "from sklearn.model_selection import StratifiedShuffleSplit\n",
    "from sklearn.model_selection import train_test_split\n",
    "from sklearn.tree import DecisionTreeRegressor\n",
    "from sklearn.metrics import mean_absolute_error\n",
    "from sklearn.svm import SVR\n",
    "from sklearn.base import BaseEstimator, TransformerMixin\n",
    "from sklearn.model_selection import RandomizedSearchCV\n",
    "from scipy.stats import expon, reciprocal\n",
    "from sklearn.model_selection import GridSearchCV\n",
    "from sklearn.externals import joblib\n",
    "from sklearn.model_selection import RandomizedSearchCV\n",
    "from sklearn.model_selection import KFold\n",
    "\n",
    "from scipy import stats\n",
    "from scipy.stats import randint\n",
    "from scipy.stats import geom, expon\n",
    "\n",
    "import hashlib\n",
    "\n",
    "from zlib import crc32\n",
    "\n",
    "# to make this notebook's output stable across runs\n",
    "np.random.seed(42)\n",
    "\n",
    "# To plot pretty figures\n",
    "%matplotlib inline\n",
    "mpl.rc('axes', labelsize=14)\n",
    "mpl.rc('xtick', labelsize=12)\n",
    "mpl.rc('ytick', labelsize=12)\n",
    "\n",
    "# Where to save the figures\n",
    "PROJECT_ROOT_DIR = \".\"\n",
    "CHAPTER_ID = \"Boston Housing Prices\"\n",
    "IMAGES_PATH = os.path.join(PROJECT_ROOT_DIR, \"images\", CHAPTER_ID)\n",
    "\n",
    "def save_fig(fig_id, tight_layout=True, fig_extension=\"png\", resolution=300):\n",
    "    path = os.path.join(IMAGES_PATH, fig_id + \".\" + fig_extension)\n",
    "    print(\"Saving figure\", fig_id)\n",
    "    if tight_layout:\n",
    "        plt.tight_layout()\n",
    "    plt.savefig(path, format=fig_extension, dpi=resolution)\n",
    "\n",
    "# Ignore useless warnings (see SciPy issue #5998)\n",
    "import warnings\n",
    "warnings.filterwarnings(action=\"ignore\", message=\"^internal gelsd\")"
   ]
  },
  {
   "cell_type": "markdown",
   "metadata": {},
   "source": [
    "#### Step 1: The Big Picture\n",
    "Our goal is to use a machine learning model to predict median value of a given home."
   ]
  },
  {
   "cell_type": "markdown",
   "metadata": {},
   "source": [
    "#### Step 2: Get the data\n",
    "This involved loading in the data from the CSV. At this point we spotted an issue.\n",
    "\n",
    "##### Issue\n",
    "We noticed that we were missing the headers in our data as kaggle had not included them in the original CSV. Luckily, Kaggle had posted information about the data and we were able to understand what headers corresponded to which column. We manually added the headers based on Kaggle's suggestions."
   ]
  },
  {
   "cell_type": "code",
   "execution_count": 4,
   "metadata": {},
   "outputs": [],
   "source": [
    "\n",
    "csv_path = os.path.join(\"./datasets/housing.csv\") # path to the data\n",
    "col_names = [\"CRIME_RATE\", \"LOT_OVER_25\", \"PROP_INDUSTRY_ACRES\", \n",
    "                           \"CHARLES_RIVER\", \"NOX_CONCENTRATION\", \"RMS_PER_DWELLING\",\n",
    "                          \"PRE_1940\", \"DISTANCE_TO_WORK\", \"HIGHWAY_ACCESS\", \"BIG_PROPERTY_TAX\",\n",
    "                          \"ST_RATIO\", \"B_PROPORTION\", \"LOWER_STATUS\", \"MEDIAN_VALUE_1K\"]\n",
    "\n",
    "housing = pd.read_csv(csv_path, delimiter=r'\\s+', names=col_names)"
   ]
  },
  {
   "cell_type": "markdown",
   "metadata": {},
   "source": [
    "#### Step 3: Discover and Visualize the Data to Gain Insights\n",
    "It is important to get a good understanding of the quirks of the data. The next few cells are dedicated to understanding the data more clearly."
   ]
  },
  {
   "cell_type": "code",
   "execution_count": 5,
   "metadata": {},
   "outputs": [
    {
     "name": "stdout",
     "output_type": "stream",
     "text": [
      "This data has (rows, columns): (506, 14)\n"
     ]
    },
    {
     "data": {
      "text/html": [
       "<div>\n",
       "<style scoped>\n",
       "    .dataframe tbody tr th:only-of-type {\n",
       "        vertical-align: middle;\n",
       "    }\n",
       "\n",
       "    .dataframe tbody tr th {\n",
       "        vertical-align: top;\n",
       "    }\n",
       "\n",
       "    .dataframe thead th {\n",
       "        text-align: right;\n",
       "    }\n",
       "</style>\n",
       "<table border=\"1\" class=\"dataframe\">\n",
       "  <thead>\n",
       "    <tr style=\"text-align: right;\">\n",
       "      <th></th>\n",
       "      <th>CRIME_RATE</th>\n",
       "      <th>LOT_OVER_25</th>\n",
       "      <th>PROP_INDUSTRY_ACRES</th>\n",
       "      <th>CHARLES_RIVER</th>\n",
       "      <th>NOX_CONCENTRATION</th>\n",
       "      <th>RMS_PER_DWELLING</th>\n",
       "      <th>PRE_1940</th>\n",
       "      <th>DISTANCE_TO_WORK</th>\n",
       "      <th>HIGHWAY_ACCESS</th>\n",
       "      <th>BIG_PROPERTY_TAX</th>\n",
       "      <th>ST_RATIO</th>\n",
       "      <th>B_PROPORTION</th>\n",
       "      <th>LOWER_STATUS</th>\n",
       "      <th>MEDIAN_VALUE_1K</th>\n",
       "    </tr>\n",
       "  </thead>\n",
       "  <tbody>\n",
       "    <tr>\n",
       "      <th>0</th>\n",
       "      <td>0.00632</td>\n",
       "      <td>18.0</td>\n",
       "      <td>2.31</td>\n",
       "      <td>0</td>\n",
       "      <td>0.538</td>\n",
       "      <td>6.575</td>\n",
       "      <td>65.2</td>\n",
       "      <td>4.0900</td>\n",
       "      <td>1</td>\n",
       "      <td>296.0</td>\n",
       "      <td>15.3</td>\n",
       "      <td>396.90</td>\n",
       "      <td>4.98</td>\n",
       "      <td>24.0</td>\n",
       "    </tr>\n",
       "    <tr>\n",
       "      <th>1</th>\n",
       "      <td>0.02731</td>\n",
       "      <td>0.0</td>\n",
       "      <td>7.07</td>\n",
       "      <td>0</td>\n",
       "      <td>0.469</td>\n",
       "      <td>6.421</td>\n",
       "      <td>78.9</td>\n",
       "      <td>4.9671</td>\n",
       "      <td>2</td>\n",
       "      <td>242.0</td>\n",
       "      <td>17.8</td>\n",
       "      <td>396.90</td>\n",
       "      <td>9.14</td>\n",
       "      <td>21.6</td>\n",
       "    </tr>\n",
       "    <tr>\n",
       "      <th>2</th>\n",
       "      <td>0.02729</td>\n",
       "      <td>0.0</td>\n",
       "      <td>7.07</td>\n",
       "      <td>0</td>\n",
       "      <td>0.469</td>\n",
       "      <td>7.185</td>\n",
       "      <td>61.1</td>\n",
       "      <td>4.9671</td>\n",
       "      <td>2</td>\n",
       "      <td>242.0</td>\n",
       "      <td>17.8</td>\n",
       "      <td>392.83</td>\n",
       "      <td>4.03</td>\n",
       "      <td>34.7</td>\n",
       "    </tr>\n",
       "    <tr>\n",
       "      <th>3</th>\n",
       "      <td>0.03237</td>\n",
       "      <td>0.0</td>\n",
       "      <td>2.18</td>\n",
       "      <td>0</td>\n",
       "      <td>0.458</td>\n",
       "      <td>6.998</td>\n",
       "      <td>45.8</td>\n",
       "      <td>6.0622</td>\n",
       "      <td>3</td>\n",
       "      <td>222.0</td>\n",
       "      <td>18.7</td>\n",
       "      <td>394.63</td>\n",
       "      <td>2.94</td>\n",
       "      <td>33.4</td>\n",
       "    </tr>\n",
       "    <tr>\n",
       "      <th>4</th>\n",
       "      <td>0.06905</td>\n",
       "      <td>0.0</td>\n",
       "      <td>2.18</td>\n",
       "      <td>0</td>\n",
       "      <td>0.458</td>\n",
       "      <td>7.147</td>\n",
       "      <td>54.2</td>\n",
       "      <td>6.0622</td>\n",
       "      <td>3</td>\n",
       "      <td>222.0</td>\n",
       "      <td>18.7</td>\n",
       "      <td>396.90</td>\n",
       "      <td>5.33</td>\n",
       "      <td>36.2</td>\n",
       "    </tr>\n",
       "  </tbody>\n",
       "</table>\n",
       "</div>"
      ],
      "text/plain": [
       "   CRIME_RATE  LOT_OVER_25  PROP_INDUSTRY_ACRES  CHARLES_RIVER  \\\n",
       "0     0.00632         18.0                 2.31              0   \n",
       "1     0.02731          0.0                 7.07              0   \n",
       "2     0.02729          0.0                 7.07              0   \n",
       "3     0.03237          0.0                 2.18              0   \n",
       "4     0.06905          0.0                 2.18              0   \n",
       "\n",
       "   NOX_CONCENTRATION  RMS_PER_DWELLING  PRE_1940  DISTANCE_TO_WORK  \\\n",
       "0              0.538             6.575      65.2            4.0900   \n",
       "1              0.469             6.421      78.9            4.9671   \n",
       "2              0.469             7.185      61.1            4.9671   \n",
       "3              0.458             6.998      45.8            6.0622   \n",
       "4              0.458             7.147      54.2            6.0622   \n",
       "\n",
       "   HIGHWAY_ACCESS  BIG_PROPERTY_TAX  ST_RATIO  B_PROPORTION  LOWER_STATUS  \\\n",
       "0               1             296.0      15.3        396.90          4.98   \n",
       "1               2             242.0      17.8        396.90          9.14   \n",
       "2               2             242.0      17.8        392.83          4.03   \n",
       "3               3             222.0      18.7        394.63          2.94   \n",
       "4               3             222.0      18.7        396.90          5.33   \n",
       "\n",
       "   MEDIAN_VALUE_1K  \n",
       "0             24.0  \n",
       "1             21.6  \n",
       "2             34.7  \n",
       "3             33.4  \n",
       "4             36.2  "
      ]
     },
     "execution_count": 5,
     "metadata": {},
     "output_type": "execute_result"
    }
   ],
   "source": [
    "print(\"This data has (rows, columns):\", housing.shape) ### how many rows and columns in the data\n",
    "housing.head() ### This shows us the columns names and the first 5 rows of data"
   ]
  },
  {
   "cell_type": "code",
   "execution_count": 6,
   "metadata": {},
   "outputs": [
    {
     "name": "stdout",
     "output_type": "stream",
     "text": [
      "<class 'pandas.core.frame.DataFrame'>\n",
      "RangeIndex: 506 entries, 0 to 505\n",
      "Data columns (total 14 columns):\n",
      "CRIME_RATE             506 non-null float64\n",
      "LOT_OVER_25            506 non-null float64\n",
      "PROP_INDUSTRY_ACRES    506 non-null float64\n",
      "CHARLES_RIVER          506 non-null int64\n",
      "NOX_CONCENTRATION      506 non-null float64\n",
      "RMS_PER_DWELLING       506 non-null float64\n",
      "PRE_1940               506 non-null float64\n",
      "DISTANCE_TO_WORK       506 non-null float64\n",
      "HIGHWAY_ACCESS         506 non-null int64\n",
      "BIG_PROPERTY_TAX       506 non-null float64\n",
      "ST_RATIO               506 non-null float64\n",
      "B_PROPORTION           506 non-null float64\n",
      "LOWER_STATUS           506 non-null float64\n",
      "MEDIAN_VALUE_1K        506 non-null float64\n",
      "dtypes: float64(12), int64(2)\n",
      "memory usage: 55.4 KB\n"
     ]
    }
   ],
   "source": [
    "housing.info()"
   ]
  },
  {
   "cell_type": "code",
   "execution_count": 7,
   "metadata": {},
   "outputs": [
    {
     "data": {
      "text/plain": [
       "'It is worth noting that there is a lot of decimal places in this data. Later on we may need\\nto shorten the information\\n'"
      ]
     },
     "execution_count": 7,
     "metadata": {},
     "output_type": "execute_result"
    }
   ],
   "source": [
    "housing.describe()\n",
    "\"\"\"It is worth noting that there is a lot of decimal places in this data. Later on we may need\n",
    "to shorten the information\n",
    "\"\"\""
   ]
  },
  {
   "cell_type": "code",
   "execution_count": 8,
   "metadata": {},
   "outputs": [
    {
     "name": "stdout",
     "output_type": "stream",
     "text": [
      "Saving figure attribute_histogram_plots\n"
     ]
    },
    {
     "data": {
      "image/png": "[encoded data removed]",
      "text/plain": [
       "<Figure size 1152x648 with 16 Axes>"
      ]
     },
     "metadata": {
      "needs_background": "light"
     },
     "output_type": "display_data"
    },
    {
     "data": {
      "text/plain": [
       "'\\nIt is important to note that the Distance to Work and Lower Status columns \\nhave similar distributions.\\nRooms per dwelling and median value of similar shapes.\\nIn general, the data has lots of tails so we will probably need to do some\\nkind of normalizatin on it to help the machine learning functions work on it.\\n'"
      ]
     },
     "execution_count": 8,
     "metadata": {},
     "output_type": "execute_result"
    }
   ],
   "source": [
    "%matplotlib inline\n",
    "housing.hist(bins=20, figsize=(16, 9))\n",
    "save_fig(\"attribute_histogram_plots\")\n",
    "plt.show()\n",
    "\"\"\"\n",
    "It is important to note that the Distance to Work and Lower Status columns \n",
    "have similar distributions.\n",
    "Rooms per dwelling and median value of similar shapes.\n",
    "In general, the data has lots of tails so we will probably need to do some\n",
    "kind of normalizatin on it to help the machine learning functions work on it.\n",
    "\"\"\""
   ]
  },
  {
   "cell_type": "markdown",
   "metadata": {},
   "source": [
    "##### Understanding what's correlated\n",
    "Now that I have a good sense of what the data looks like, I need to determine what correlations exist. I can visually see that Pre_1940 and B_Proportion have similar shapes, most of the graphs have significant tails, and that there seems to be huge spikes in certain bins. However, I need a more granular understanding of what is correlated to what. After some googling, I found this [stack overflow post](https://stackoverflow.com/questions/17778394/list-highest-correlation-pairs-from-a-large-correlation-matrix-in-pandas) that offered some insights into how I might discover correlations. I used these methods to understand the data"
   ]
  },
  {
   "cell_type": "code",
   "execution_count": 47,
   "metadata": {},
   "outputs": [
    {
     "name": "stdout",
     "output_type": "stream",
     "text": [
      "Correlation Matrix\n",
      "CRIME_RATE            -0.388305\n",
      "LOT_OVER_25            0.360445\n",
      "PROP_INDUSTRY_ACRES   -0.483725\n",
      "CHARLES_RIVER          0.175260\n",
      "NOX_CONCENTRATION     -0.427321\n",
      "RMS_PER_DWELLING       0.695360\n",
      "PRE_1940              -0.376955\n",
      "DISTANCE_TO_WORK       0.249929\n",
      "HIGHWAY_ACCESS        -0.381626\n",
      "BIG_PROPERTY_TAX      -0.468536\n",
      "ST_RATIO              -0.507787\n",
      "B_PROPORTION           0.333461\n",
      "LOWER_STATUS          -0.737663\n",
      "MEDIAN_VALUE_1K        1.000000\n",
      "Name: MEDIAN_VALUE_1K, dtype: float64\n",
      "\n"
     ]
    }
   ],
   "source": [
    "print(\"Correlation Matrix\")\n",
    "print(housing.corr()['MEDIAN_VALUE_1K'])\n",
    "print()"
   ]
  },
  {
   "cell_type": "markdown",
   "metadata": {},
   "source": [
    "##### Notable Correlations\n",
    "I only selected the correlations for Median_Value_1k. It is clear that RMS_PER_DWELLING (the number of rooms per dwelling), ST_RATIO (student-teacher ratio), and LOWER_STATUS (percentage of home owners considered lower class) are all highly correlated with MEDIAN_VALUE_1k. "
   ]
  },
  {
   "cell_type": "markdown",
   "metadata": {},
   "source": [
    "##### Step 4: Prepare the data for Machine Learning algorithms\n",
    "We will split the data into explanatory and dependent variables. We will also set aside some data for our testing at the end. "
   ]
  },
  {
   "cell_type": "code",
   "execution_count": 10,
   "metadata": {},
   "outputs": [],
   "source": [
    "# to make this notebook's output identical at every run\n",
    "np.random.seed(42)"
   ]
  },
  {
   "cell_type": "code",
   "execution_count": 48,
   "metadata": {},
   "outputs": [
    {
     "name": "stdout",
     "output_type": "stream",
     "text": [
      "(404, 13)\n",
      "(404,)\n",
      "(102, 13)\n",
      "(102,)\n"
     ]
    }
   ],
   "source": [
    "\n",
    "X = housing[[\"CRIME_RATE\", \"LOT_OVER_25\", \"PROP_INDUSTRY_ACRES\", \"CHARLES_RIVER\", \n",
    "            \"NOX_CONCENTRATION\", \"RMS_PER_DWELLING\", \"PRE_1940\", \"DISTANCE_TO_WORK\", \n",
    "           \"HIGHWAY_ACCESS\", \"BIG_PROPERTY_TAX\", \"ST_RATIO\", \"B_PROPORTION\", \"LOWER_STATUS\"]]\n",
    "Y = housing[\"MEDIAN_VALUE_1K\"]\n",
    "X_Train, X_Test, Y_Train, Y_Test = train_test_split(X, Y, test_size=0.2, random_state=42)\n",
    "\n",
    "print(X_Train.shape) ### Just verifying that the shape of all of my data looks alright\n",
    "print(Y_Train.shape)\n",
    "print(X_Test.shape)\n",
    "print(Y_Test.shape)"
   ]
  },
  {
   "cell_type": "markdown",
   "metadata": {},
   "source": [
    "##### Step 5: Select Model and Train It"
   ]
  },
  {
   "cell_type": "markdown",
   "metadata": {},
   "source": [
    "Now it is time to perform the regression. For this step, I am going to use a basic linear regression."
   ]
  },
  {
   "cell_type": "code",
   "execution_count": 61,
   "metadata": {},
   "outputs": [
    {
     "name": "stderr",
     "output_type": "stream",
     "text": [
      "c:\\users\\andrew\\appdata\\local\\programs\\python\\python36-32\\lib\\site-packages\\sklearn\\ensemble\\forest.py:246: FutureWarning: The default value of n_estimators will change from 10 in version 0.20 to 100 in 0.22.\n",
      "  \"10 in version 0.20 to 100 in 0.22.\", FutureWarning)\n"
     ]
    }
   ],
   "source": [
    "\n",
    "lin_regress = LinearRegression()\n",
    "SGD = linear_model.SGDRegressor(learning_rate='optimal',max_iter=3000, tol=.0000003, \n",
    "                                early_stopping=False, eta0=.0002, loss=\"squared_epsilon_insensitive\")\n",
    "#Log = linear_model.LogisticRegression()\n",
    "DT = DecisionTreeRegressor()\n",
    "RF = RandomForestRegressor(random_state=42)\n",
    "\n",
    "\n",
    "lin_regress.fit(X_Train, Y_Train)\n",
    "SGD.fit(X_Train, Y_Train)\n",
    "\n",
    "#Log.fit(X_Train, Y_Train)\n",
    "DT.fit(X_Train, Y_Train)\n",
    "RF.fit(X_Train, Y_Train)\n",
    "\n",
    "Y_Predict_Lin = lin_regress.predict(X_Test)\n",
    "Y_Predict_SGD = SGD.predict(X_Test)\n",
    "#Y_Predict_Log = Log.predict(X_Test)\n",
    "\n",
    "Y_Predict_DT = DT.predict(X_Test)\n",
    "Y_Predict_RF = RF.predict(X_Test)\n",
    "\n",
    "## apply logistic, decision tree, random forest\n",
    "\n",
    "# plt.scatter(Y_Test, Y_Predict)\n",
    "# plt.xlabel(\"Prices: $Y_i$\")\n",
    "# plt.ylabel(\"Predicted prices: $\\hat{Y}_i$\")\n",
    "# plt.title(\"Prices vs Predicted prices: $Y_i$ vs $\\hat{Y}_i$\")\n",
    "\n",
    "\n",
    "# plt.scatter(Y_Test, Y_Predict2)\n",
    "# plt.xlabel(\"Prices: $Y_i$\")\n",
    "# plt.ylabel(\"Predicted prices (2): $\\hat{Y}_i$\")\n",
    "# plt.title(\"Prices vs Predicted (2) prices: $Y_i$ vs $\\hat{Y}_i$\")"
   ]
  },
  {
   "cell_type": "markdown",
   "metadata": {},
   "source": [
    "Now that we have run the regression, we need to understand how accurate the model is."
   ]
  },
  {
   "cell_type": "code",
   "execution_count": 62,
   "metadata": {},
   "outputs": [
    {
     "name": "stdout",
     "output_type": "stream",
     "text": [
      "Linear Regression: 4.928602182665332\n",
      "SGD Regression: 3.413354362600641e+16\n",
      "Decision Tree Regression: 3.413354362600641e+16\n",
      "Random Forest Regression: 3.413354362600641e+16\n"
     ]
    }
   ],
   "source": [
    "MSE_Lin = mean_squared_error(Y_Test, Y_Predict_Lin)\n",
    "MSE_SGD = mean_squared_error(Y_Test, Y_Predict_SGD)\n",
    "#MSE_Log = mean_squared_error(Y_Test, Y_Predict_Log)\n",
    "MSE_DT = mean_squared_error(Y_Test, Y_Predict_DT)\n",
    "MSE_RF = mean_squared_error(Y_Test, Y_Predict_RF)\n",
    "\n",
    "RMSE_Lin = np.sqrt(MSE_Lin)\n",
    "RMSE_SGD = np.sqrt(MSE_SGD)\n",
    "#RMSE_Log = np.sqrt(MSE_Log)\n",
    "RMSE_DT = np.sqrt(MSE_DT)\n",
    "RMSE_RF = np.sqrt(MSE_RF)\n",
    "\n",
    "print(\"Linear Regression:\", RMSE_Lin)\n",
    "print(\"SGD Regression:\", RMSE_SGD)\n",
    "#print(\"Log Regression:\", RMSE_SGD)\n",
    "print(\"Decision Tree Regression:\", RMSE_SGD)\n",
    "print(\"Random Forest Regression:\", RMSE_SGD)"
   ]
  },
  {
   "cell_type": "markdown",
   "metadata": {},
   "source": [
    "This means our predictions of price are off by around $5,000. Not too bad!"
   ]
  },
  {
   "cell_type": "code",
   "execution_count": 63,
   "metadata": {
    "scrolled": true
   },
   "outputs": [
    {
     "name": "stdout",
     "output_type": "stream",
     "text": [
      "4.829441880454274\n",
      "2.1399598550643384e+16\n",
      "5.045775228117252\n",
      "3.7231231236741933\n"
     ]
    }
   ],
   "source": [
    "\n",
    "kfold = KFold(n_splits=10, random_state=42)\n",
    "cv_LinReg_results = cross_val_score(lin_regress, X_Train, Y_Train, cv=kfold, scoring=\"neg_mean_squared_error\")\n",
    "cv_SGD_results = cross_val_score(SGD, X_Train, Y_Train, cv=kfold, scoring=\"neg_mean_squared_error\")\n",
    "cv_DT_results = cross_val_score(DT, X_Train, Y_Train, cv=kfold, scoring=\"neg_mean_squared_error\")\n",
    "cv_RF_results = cross_val_score(RF, X_Train, Y_Train, cv=kfold, scoring=\"neg_mean_squared_error\")\n",
    "cv_LinReg_score = np.sqrt(-cv_LinReg_results)\n",
    "cv_SGD_score = np.sqrt(-cv_SGD_results)\n",
    "cv_DT_score = np.sqrt(-cv_DT_results)\n",
    "cv_RF_score = np.sqrt(-cv_RF_results)\n",
    "\n",
    "print(cv_LinReg_score.mean())\n",
    "print(cv_SGD_score.mean())\n",
    "print(cv_DT_score.mean())\n",
    "print(cv_RF_score.mean())"
   ]
  },
  {
   "cell_type": "code",
   "execution_count": 77,
   "metadata": {
    "scrolled": true
   },
   "outputs": [
    {
     "name": "stdout",
     "output_type": "stream",
     "text": [
      "Random Forest w/tuned Hyperparameters RMSE:\n",
      "3.1380053299796025\n",
      "4.838551013226042 {'max_features': 2, 'n_estimators': 3}\n",
      "4.181225186402418 {'max_features': 2, 'n_estimators': 10}\n",
      "3.9604531027242182 {'max_features': 2, 'n_estimators': 30}\n",
      "4.75765638517831 {'max_features': 3, 'n_estimators': 3}\n",
      "3.9385698452284146 {'max_features': 3, 'n_estimators': 10}\n",
      "3.7931694225840804 {'max_features': 3, 'n_estimators': 30}\n",
      "5.012145863860714 {'max_features': 4, 'n_estimators': 3}\n",
      "3.970071357565052 {'max_features': 4, 'n_estimators': 10}\n",
      "3.764531766693203 {'max_features': 4, 'n_estimators': 30}\n",
      "4.206600058052208 {'bootstrap': False, 'max_features': 2, 'n_estimators': 3}\n",
      "3.8897836802588293 {'bootstrap': False, 'max_features': 2, 'n_estimators': 10}\n",
      "4.110198884906587 {'bootstrap': False, 'max_features': 3, 'n_estimators': 3}\n",
      "3.8177902996729967 {'bootstrap': False, 'max_features': 3, 'n_estimators': 10}\n",
      "4.297840491838818 {'bootstrap': False, 'max_features': 4, 'n_estimators': 3}\n",
      "3.7313598442295417 {'bootstrap': False, 'max_features': 4, 'n_estimators': 10}\n",
      "Best is: \n",
      "{'bootstrap': False, 'max_features': 4, 'n_estimators': 10}\n"
     ]
    },
    {
     "name": "stderr",
     "output_type": "stream",
     "text": [
      "c:\\users\\andrew\\appdata\\local\\programs\\python\\python36-32\\lib\\site-packages\\sklearn\\model_selection\\_search.py:841: DeprecationWarning: The default of the `iid` parameter will change from True to False in version 0.22 and will be removed in 0.24. This will change numeric results when test-set sizes are unequal.\n",
      "  DeprecationWarning)\n"
     ]
    }
   ],
   "source": [
    "# Grid Search of Hyperparameters for Random Forest Regression\n",
    "\n",
    "from sklearn.model_selection import GridSearchCV\n",
    "parameters = [\n",
    "    {'n_estimators': [3, 10, 30], 'max_features':[2,3,4]},\n",
    "    {'bootstrap': [False], 'n_estimators':[3,10], 'max_features':[2,3,4]}\n",
    "    ]\n",
    "RF_Tuned = RandomForestRegressor(random_state=42)\n",
    "grid_search = GridSearchCV(RF_Tuned, parameters, cv=5, \n",
    "                           scoring='neg_mean_squared_error', return_train_score=True)\n",
    "grid_search.fit(X_Train, Y_Train)\n",
    "RF_Tuned_Prediction = grid_search.predict(X_Test)\n",
    "RF_Tuned_MSE = mean_squared_error(Y_Test, RF_Tuned_Prediction)\n",
    "RF_Tuned_RMSE = np.sqrt(RF_Tuned_MSE)\n",
    "print(\"Random Forest w/tuned Hyperparameters RMSE:\\n\" + str(RF_Tuned_RMSE))\n",
    "\n",
    "# # # # # # # # Finding Hyperparameters # # # # # # # #\n",
    "CV_Results = grid_search.cv_results_\n",
    "# Prints out which myperparameters got which RMSE\n",
    "for mean_score, params in zip(CV_Results[\"mean_test_score\"], CV_Results['params']):\n",
    "    print(np.sqrt(-mean_score), params)    \n",
    "\n",
    "print(\"Best is: \")\n",
    "print(grid_search.best_params_)\n",
    "\n"
   ]
  },
  {
   "cell_type": "code",
   "execution_count": 78,
   "metadata": {},
   "outputs": [
    {
     "ename": "NotFittedError",
     "evalue": "This RandomForestRegressor instance is not fitted yet. Call 'fit' with appropriate arguments before using this method.",
     "output_type": "error",
     "traceback": [
      "\u001b[1;31m---------------------------------------------------------------------------\u001b[0m",
      "\u001b[1;31mNotFittedError\u001b[0m                            Traceback (most recent call last)",
      "\u001b[1;32m<ipython-input-78-3c28793db3c3>\u001b[0m in \u001b[0;36m<module>\u001b[1;34m\u001b[0m\n\u001b[0;32m      1\u001b[0m \u001b[1;31m#Best Solution:\u001b[0m\u001b[1;33m\u001b[0m\u001b[1;33m\u001b[0m\u001b[0m\n\u001b[0;32m      2\u001b[0m \u001b[0mRF_Best\u001b[0m \u001b[1;33m=\u001b[0m \u001b[0mRandomForestRegressor\u001b[0m\u001b[1;33m(\u001b[0m\u001b[0mbootstrap\u001b[0m\u001b[1;33m=\u001b[0m\u001b[1;32mFalse\u001b[0m\u001b[1;33m,\u001b[0m \u001b[0mmax_features\u001b[0m\u001b[1;33m=\u001b[0m\u001b[1;36m4\u001b[0m\u001b[1;33m,\u001b[0m \u001b[0mn_estimators\u001b[0m\u001b[1;33m=\u001b[0m\u001b[1;36m10\u001b[0m\u001b[1;33m,\u001b[0m \u001b[0mrandom_state\u001b[0m\u001b[1;33m=\u001b[0m\u001b[1;36m42\u001b[0m\u001b[1;33m)\u001b[0m\u001b[1;33m\u001b[0m\u001b[0m\n\u001b[1;32m----> 3\u001b[1;33m \u001b[0mRF_Best_Prediction\u001b[0m \u001b[1;33m=\u001b[0m \u001b[0mRF_Best\u001b[0m\u001b[1;33m.\u001b[0m\u001b[0mpredict\u001b[0m\u001b[1;33m(\u001b[0m\u001b[0mX_Test\u001b[0m\u001b[1;33m)\u001b[0m\u001b[1;33m\u001b[0m\u001b[0m\n\u001b[0m\u001b[0;32m      4\u001b[0m \u001b[0mRF_Best_MSE\u001b[0m \u001b[1;33m=\u001b[0m \u001b[0mmean_squared_error\u001b[0m\u001b[1;33m(\u001b[0m\u001b[0mY_Test\u001b[0m\u001b[1;33m,\u001b[0m \u001b[0mRF_Best_Prediction\u001b[0m\u001b[1;33m)\u001b[0m\u001b[1;33m\u001b[0m\u001b[0m\n\u001b[0;32m      5\u001b[0m \u001b[0mRF_Best_RMSE\u001b[0m \u001b[1;33m=\u001b[0m \u001b[0mnp\u001b[0m\u001b[1;33m.\u001b[0m\u001b[0msqrt\u001b[0m\u001b[1;33m(\u001b[0m\u001b[0mRF_Best_MSE\u001b[0m\u001b[1;33m)\u001b[0m\u001b[1;33m\u001b[0m\u001b[0m\n",
      "\u001b[1;32mc:\\users\\andrew\\appdata\\local\\programs\\python\\python36-32\\lib\\site-packages\\sklearn\\ensemble\\forest.py\u001b[0m in \u001b[0;36mpredict\u001b[1;34m(self, X)\u001b[0m\n\u001b[0;32m    684\u001b[0m             \u001b[0mThe\u001b[0m \u001b[0mpredicted\u001b[0m \u001b[0mvalues\u001b[0m\u001b[1;33m.\u001b[0m\u001b[1;33m\u001b[0m\u001b[0m\n\u001b[0;32m    685\u001b[0m         \"\"\"\n\u001b[1;32m--> 686\u001b[1;33m         \u001b[0mcheck_is_fitted\u001b[0m\u001b[1;33m(\u001b[0m\u001b[0mself\u001b[0m\u001b[1;33m,\u001b[0m \u001b[1;34m'estimators_'\u001b[0m\u001b[1;33m)\u001b[0m\u001b[1;33m\u001b[0m\u001b[0m\n\u001b[0m\u001b[0;32m    687\u001b[0m         \u001b[1;31m# Check data\u001b[0m\u001b[1;33m\u001b[0m\u001b[1;33m\u001b[0m\u001b[0m\n\u001b[0;32m    688\u001b[0m         \u001b[0mX\u001b[0m \u001b[1;33m=\u001b[0m \u001b[0mself\u001b[0m\u001b[1;33m.\u001b[0m\u001b[0m_validate_X_predict\u001b[0m\u001b[1;33m(\u001b[0m\u001b[0mX\u001b[0m\u001b[1;33m)\u001b[0m\u001b[1;33m\u001b[0m\u001b[0m\n",
      "\u001b[1;32mc:\\users\\andrew\\appdata\\local\\programs\\python\\python36-32\\lib\\site-packages\\sklearn\\utils\\validation.py\u001b[0m in \u001b[0;36mcheck_is_fitted\u001b[1;34m(estimator, attributes, msg, all_or_any)\u001b[0m\n\u001b[0;32m    949\u001b[0m \u001b[1;33m\u001b[0m\u001b[0m\n\u001b[0;32m    950\u001b[0m     \u001b[1;32mif\u001b[0m \u001b[1;32mnot\u001b[0m \u001b[0mall_or_any\u001b[0m\u001b[1;33m(\u001b[0m\u001b[1;33m[\u001b[0m\u001b[0mhasattr\u001b[0m\u001b[1;33m(\u001b[0m\u001b[0mestimator\u001b[0m\u001b[1;33m,\u001b[0m \u001b[0mattr\u001b[0m\u001b[1;33m)\u001b[0m \u001b[1;32mfor\u001b[0m \u001b[0mattr\u001b[0m \u001b[1;32min\u001b[0m \u001b[0mattributes\u001b[0m\u001b[1;33m]\u001b[0m\u001b[1;33m)\u001b[0m\u001b[1;33m:\u001b[0m\u001b[1;33m\u001b[0m\u001b[0m\n\u001b[1;32m--> 951\u001b[1;33m         \u001b[1;32mraise\u001b[0m \u001b[0mNotFittedError\u001b[0m\u001b[1;33m(\u001b[0m\u001b[0mmsg\u001b[0m \u001b[1;33m%\u001b[0m \u001b[1;33m{\u001b[0m\u001b[1;34m'name'\u001b[0m\u001b[1;33m:\u001b[0m \u001b[0mtype\u001b[0m\u001b[1;33m(\u001b[0m\u001b[0mestimator\u001b[0m\u001b[1;33m)\u001b[0m\u001b[1;33m.\u001b[0m\u001b[0m__name__\u001b[0m\u001b[1;33m}\u001b[0m\u001b[1;33m)\u001b[0m\u001b[1;33m\u001b[0m\u001b[0m\n\u001b[0m\u001b[0;32m    952\u001b[0m \u001b[1;33m\u001b[0m\u001b[0m\n\u001b[0;32m    953\u001b[0m \u001b[1;33m\u001b[0m\u001b[0m\n",
      "\u001b[1;31mNotFittedError\u001b[0m: This RandomForestRegressor instance is not fitted yet. Call 'fit' with appropriate arguments before using this method."
     ]
    }
   ],
   "source": [
    "#Best Solution:\n",
    "RF_Best = RandomForestRegressor(bootstrap=False, max_features=4, n_estimators=10, random_state=42)\n",
    "RF_Best_Prediction = RF_Best.predict(X_Test)\n",
    "RF_Best_MSE = mean_squared_error(Y_Test, RF_Best_Prediction)\n",
    "RF_Best_RMSE = np.sqrt(RF_Best_MSE)\n",
    "print(\"Random Forest w/best Hyperparameters RMSE:\\n\" + str(RF_Best_RMSE))\n",
    "\n"
   ]
  },
  {
   "cell_type": "markdown",
   "metadata": {},
   "source": [
    "##### What's left TODO:\n",
    "\n",
    "Step 6. Fine-tune your model. \n",
    "\n",
    "Step 7. Present your solution. \n",
    "\n",
    "Step 8. Launch, monitor, and maintain your system.\n"
   ]
  },
  {
   "cell_type": "code",
   "execution_count": null,
   "metadata": {},
   "outputs": [],
   "source": []
  }
 ],
 "metadata": {
  "kernelspec": {
   "display_name": "Python 3",
   "language": "python",
   "name": "python3"
  },
  "language_info": {
   "codemirror_mode": {
    "name": "ipython",
    "version": 3
   },
   "file_extension": ".py",
   "mimetype": "text/x-python",
   "name": "python",
   "nbconvert_exporter": "python",
   "pygments_lexer": "ipython3",
   "version": "3.6.5"
  },
  "nav_menu": {
   "height": "279px",
   "width": "309px"
  },
  "toc": {
   "nav_menu": {},
   "number_sections": true,
   "sideBar": true,
   "skip_h1_title": false,
   "toc_cell": false,
   "toc_position": {},
   "toc_section_display": "block",
   "toc_window_display": false
  }
 },
 "nbformat": 4,
 "nbformat_minor": 1
}
